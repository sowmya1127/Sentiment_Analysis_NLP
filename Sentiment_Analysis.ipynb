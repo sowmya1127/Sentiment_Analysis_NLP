{
 "cells": [
  {
   "cell_type": "markdown",
   "id": "25e278f3",
   "metadata": {},
   "source": [
    "Sentiment Analysis using TextBlob is a python library which offers API acess to different NLP task like sentiment analysis ,spelling correction\n",
    "TextBlob returns Ploarity(ranges from -1 to 1) and Subjectivity(ranges from 0 to 1)\n",
    "\n",
    "\n",
    "Here we will use AmazonDataset where we take ReviewText column and try to fing whether the sentence is postive ,Negative or Neutral"
   ]
  },
  {
   "cell_type": "code",
   "execution_count": 1,
   "id": "a5ec457d",
   "metadata": {},
   "outputs": [],
   "source": [
    "# Importing the Packages\n",
    "import numpy as np\n",
    "import tensorflow as tf\n",
    "import pandas as pd\n",
    "import re\n",
    "import nltk\n",
    "from nltk.tokenize import word_tokenize\n",
    "nltk.download('stopwords')\n",
    "from nltk.corpus import stopwords"
   ]
  },
  {
   "cell_type": "code",
   "execution_count": 2,
   "id": "655de531",
   "metadata": {},
   "outputs": [
    {
     "data": {
      "text/html": [
       "<div>\n",
       "<style scoped>\n",
       "    .dataframe tbody tr th:only-of-type {\n",
       "        vertical-align: middle;\n",
       "    }\n",
       "\n",
       "    .dataframe tbody tr th {\n",
       "        vertical-align: top;\n",
       "    }\n",
       "\n",
       "    .dataframe thead th {\n",
       "        text-align: right;\n",
       "    }\n",
       "</style>\n",
       "<table border=\"1\" class=\"dataframe\">\n",
       "  <thead>\n",
       "    <tr style=\"text-align: right;\">\n",
       "      <th></th>\n",
       "      <th>Unnamed: 0</th>\n",
       "      <th>reviewerName</th>\n",
       "      <th>overall</th>\n",
       "      <th>reviewText</th>\n",
       "      <th>reviewTime</th>\n",
       "      <th>day_diff</th>\n",
       "      <th>helpful_yes</th>\n",
       "      <th>helpful_no</th>\n",
       "      <th>total_vote</th>\n",
       "      <th>score_pos_neg_diff</th>\n",
       "      <th>score_average_rating</th>\n",
       "      <th>wilson_lower_bound</th>\n",
       "    </tr>\n",
       "  </thead>\n",
       "  <tbody>\n",
       "    <tr>\n",
       "      <th>0</th>\n",
       "      <td>0</td>\n",
       "      <td>NaN</td>\n",
       "      <td>4</td>\n",
       "      <td>No issues.</td>\n",
       "      <td>23-07-2014</td>\n",
       "      <td>138</td>\n",
       "      <td>0</td>\n",
       "      <td>0</td>\n",
       "      <td>0</td>\n",
       "      <td>0</td>\n",
       "      <td>0.0</td>\n",
       "      <td>0.0</td>\n",
       "    </tr>\n",
       "    <tr>\n",
       "      <th>1</th>\n",
       "      <td>1</td>\n",
       "      <td>0mie</td>\n",
       "      <td>5</td>\n",
       "      <td>Purchased this for my device, it worked as adv...</td>\n",
       "      <td>25-10-2013</td>\n",
       "      <td>409</td>\n",
       "      <td>0</td>\n",
       "      <td>0</td>\n",
       "      <td>0</td>\n",
       "      <td>0</td>\n",
       "      <td>0.0</td>\n",
       "      <td>0.0</td>\n",
       "    </tr>\n",
       "    <tr>\n",
       "      <th>2</th>\n",
       "      <td>2</td>\n",
       "      <td>1K3</td>\n",
       "      <td>4</td>\n",
       "      <td>it works as expected. I should have sprung for...</td>\n",
       "      <td>23-12-2012</td>\n",
       "      <td>715</td>\n",
       "      <td>0</td>\n",
       "      <td>0</td>\n",
       "      <td>0</td>\n",
       "      <td>0</td>\n",
       "      <td>0.0</td>\n",
       "      <td>0.0</td>\n",
       "    </tr>\n",
       "    <tr>\n",
       "      <th>3</th>\n",
       "      <td>3</td>\n",
       "      <td>1m2</td>\n",
       "      <td>5</td>\n",
       "      <td>This think has worked out great.Had a diff. br...</td>\n",
       "      <td>21-11-2013</td>\n",
       "      <td>382</td>\n",
       "      <td>0</td>\n",
       "      <td>0</td>\n",
       "      <td>0</td>\n",
       "      <td>0</td>\n",
       "      <td>0.0</td>\n",
       "      <td>0.0</td>\n",
       "    </tr>\n",
       "    <tr>\n",
       "      <th>4</th>\n",
       "      <td>4</td>\n",
       "      <td>2&amp;amp;1/2Men</td>\n",
       "      <td>5</td>\n",
       "      <td>Bought it with Retail Packaging, arrived legit...</td>\n",
       "      <td>13-07-2013</td>\n",
       "      <td>513</td>\n",
       "      <td>0</td>\n",
       "      <td>0</td>\n",
       "      <td>0</td>\n",
       "      <td>0</td>\n",
       "      <td>0.0</td>\n",
       "      <td>0.0</td>\n",
       "    </tr>\n",
       "  </tbody>\n",
       "</table>\n",
       "</div>"
      ],
      "text/plain": [
       "   Unnamed: 0  reviewerName  overall  \\\n",
       "0           0           NaN        4   \n",
       "1           1          0mie        5   \n",
       "2           2           1K3        4   \n",
       "3           3           1m2        5   \n",
       "4           4  2&amp;1/2Men        5   \n",
       "\n",
       "                                          reviewText  reviewTime  day_diff  \\\n",
       "0                                         No issues.  23-07-2014       138   \n",
       "1  Purchased this for my device, it worked as adv...  25-10-2013       409   \n",
       "2  it works as expected. I should have sprung for...  23-12-2012       715   \n",
       "3  This think has worked out great.Had a diff. br...  21-11-2013       382   \n",
       "4  Bought it with Retail Packaging, arrived legit...  13-07-2013       513   \n",
       "\n",
       "   helpful_yes  helpful_no  total_vote  score_pos_neg_diff  \\\n",
       "0            0           0           0                   0   \n",
       "1            0           0           0                   0   \n",
       "2            0           0           0                   0   \n",
       "3            0           0           0                   0   \n",
       "4            0           0           0                   0   \n",
       "\n",
       "   score_average_rating  wilson_lower_bound  \n",
       "0                   0.0                 0.0  \n",
       "1                   0.0                 0.0  \n",
       "2                   0.0                 0.0  \n",
       "3                   0.0                 0.0  \n",
       "4                   0.0                 0.0  "
      ]
     },
     "execution_count": 2,
     "metadata": {},
     "output_type": "execute_result"
    }
   ],
   "source": [
    "# Loading the dataset using pandas\n",
    "dataset=pd.read_csv(\"./amazon.csv\")\n",
    "dataset.head()"
   ]
  },
  {
   "cell_type": "code",
   "execution_count": 3,
   "id": "bd92ab34",
   "metadata": {},
   "outputs": [
    {
     "data": {
      "text/plain": [
       "(4915, 12)"
      ]
     },
     "execution_count": 3,
     "metadata": {},
     "output_type": "execute_result"
    }
   ],
   "source": [
    "dataset.shape"
   ]
  },
  {
   "cell_type": "code",
   "execution_count": 4,
   "id": "519f1a61",
   "metadata": {
    "scrolled": true
   },
   "outputs": [
    {
     "data": {
      "text/plain": [
       "Unnamed: 0              0\n",
       "reviewerName            1\n",
       "overall                 0\n",
       "reviewText              1\n",
       "reviewTime              0\n",
       "day_diff                0\n",
       "helpful_yes             0\n",
       "helpful_no              0\n",
       "total_vote              0\n",
       "score_pos_neg_diff      0\n",
       "score_average_rating    0\n",
       "wilson_lower_bound      0\n",
       "dtype: int64"
      ]
     },
     "execution_count": 4,
     "metadata": {},
     "output_type": "execute_result"
    }
   ],
   "source": [
    "dataset.isnull().sum()"
   ]
  },
  {
   "cell_type": "code",
   "execution_count": 74,
   "id": "09db17d4",
   "metadata": {},
   "outputs": [
    {
     "data": {
      "text/html": [
       "<div>\n",
       "<style scoped>\n",
       "    .dataframe tbody tr th:only-of-type {\n",
       "        vertical-align: middle;\n",
       "    }\n",
       "\n",
       "    .dataframe tbody tr th {\n",
       "        vertical-align: top;\n",
       "    }\n",
       "\n",
       "    .dataframe thead th {\n",
       "        text-align: right;\n",
       "    }\n",
       "</style>\n",
       "<table border=\"1\" class=\"dataframe\">\n",
       "  <thead>\n",
       "    <tr style=\"text-align: right;\">\n",
       "      <th></th>\n",
       "      <th>reviewText</th>\n",
       "    </tr>\n",
       "  </thead>\n",
       "  <tbody>\n",
       "    <tr>\n",
       "      <th>0</th>\n",
       "      <td>No issues.</td>\n",
       "    </tr>\n",
       "    <tr>\n",
       "      <th>1</th>\n",
       "      <td>Purchased this for my device, it worked as adv...</td>\n",
       "    </tr>\n",
       "    <tr>\n",
       "      <th>2</th>\n",
       "      <td>it works as expected. I should have sprung for...</td>\n",
       "    </tr>\n",
       "    <tr>\n",
       "      <th>3</th>\n",
       "      <td>This think has worked out great.Had a diff. br...</td>\n",
       "    </tr>\n",
       "    <tr>\n",
       "      <th>4</th>\n",
       "      <td>Bought it with Retail Packaging, arrived legit...</td>\n",
       "    </tr>\n",
       "    <tr>\n",
       "      <th>...</th>\n",
       "      <td>...</td>\n",
       "    </tr>\n",
       "    <tr>\n",
       "      <th>4910</th>\n",
       "      <td>I bought this Sandisk 16GB Class 10 to use wit...</td>\n",
       "    </tr>\n",
       "    <tr>\n",
       "      <th>4911</th>\n",
       "      <td>Used this for extending the capabilities of my...</td>\n",
       "    </tr>\n",
       "    <tr>\n",
       "      <th>4912</th>\n",
       "      <td>Great card that is very fast and reliable. It ...</td>\n",
       "    </tr>\n",
       "    <tr>\n",
       "      <th>4913</th>\n",
       "      <td>Good amount of space for the stuff I want to d...</td>\n",
       "    </tr>\n",
       "    <tr>\n",
       "      <th>4914</th>\n",
       "      <td>I've heard bad things about this 64gb Micro SD...</td>\n",
       "    </tr>\n",
       "  </tbody>\n",
       "</table>\n",
       "<p>4915 rows × 1 columns</p>\n",
       "</div>"
      ],
      "text/plain": [
       "                                             reviewText\n",
       "0                                            No issues.\n",
       "1     Purchased this for my device, it worked as adv...\n",
       "2     it works as expected. I should have sprung for...\n",
       "3     This think has worked out great.Had a diff. br...\n",
       "4     Bought it with Retail Packaging, arrived legit...\n",
       "...                                                 ...\n",
       "4910  I bought this Sandisk 16GB Class 10 to use wit...\n",
       "4911  Used this for extending the capabilities of my...\n",
       "4912  Great card that is very fast and reliable. It ...\n",
       "4913  Good amount of space for the stuff I want to d...\n",
       "4914  I've heard bad things about this 64gb Micro SD...\n",
       "\n",
       "[4915 rows x 1 columns]"
      ]
     },
     "execution_count": 74,
     "metadata": {},
     "output_type": "execute_result"
    }
   ],
   "source": [
    "# Storing the reviewText column in dataset\n",
    "review_dataset=dataset[['reviewText']]\n",
    "review_dataset"
   ]
  },
  {
   "cell_type": "markdown",
   "id": "3910b8ec",
   "metadata": {},
   "source": [
    "# Cleaning the Text"
   ]
  },
  {
   "cell_type": "code",
   "execution_count": 75,
   "id": "19710d88",
   "metadata": {},
   "outputs": [],
   "source": [
    "#Creating a function for removing the numbers from reviewText using regular Expression\n",
    "def text_clean(text):\n",
    "    text=re.sub('[^A-Za-z]+', ' ',text)\n",
    "    return text\n"
   ]
  },
  {
   "cell_type": "code",
   "execution_count": 77,
   "id": "13b13884",
   "metadata": {},
   "outputs": [
    {
     "name": "stderr",
     "output_type": "stream",
     "text": [
      "C:\\Users\\SowmyaEppalpalli\\AppData\\Local\\Temp\\ipykernel_19840\\3368915246.py:2: SettingWithCopyWarning: \n",
      "A value is trying to be set on a copy of a slice from a DataFrame.\n",
      "Try using .loc[row_indexer,col_indexer] = value instead\n",
      "\n",
      "See the caveats in the documentation: https://pandas.pydata.org/pandas-docs/stable/user_guide/indexing.html#returning-a-view-versus-a-copy\n",
      "  review_dataset['review_text'] =review_dataset['reviewText'].astype(str).apply(text_clean)\n"
     ]
    }
   ],
   "source": [
    "# Applying the above function to reviewText column\n",
    "review_dataset['review_text'] =review_dataset['reviewText'].astype(str).apply(text_clean)\n"
   ]
  },
  {
   "cell_type": "code",
   "execution_count": 78,
   "id": "949e3003",
   "metadata": {},
   "outputs": [],
   "source": [
    "# Creating a function for Tokenization and also removing stopwords\n",
    "def token_stop(text):\n",
    "    tokenized_words=word_tokenize(text)\n",
    "    new_list=[]\n",
    "    for word in tokenized_words:\n",
    "        if word.lower() not in set(stopwords.words('english')):\n",
    "            new_list.append(word)\n",
    "    return new_list\n"
   ]
  },
  {
   "cell_type": "code",
   "execution_count": 79,
   "id": "17125e97",
   "metadata": {},
   "outputs": [
    {
     "name": "stderr",
     "output_type": "stream",
     "text": [
      "C:\\Users\\SowmyaEppalpalli\\AppData\\Local\\Temp\\ipykernel_19840\\151483278.py:1: SettingWithCopyWarning: \n",
      "A value is trying to be set on a copy of a slice from a DataFrame.\n",
      "Try using .loc[row_indexer,col_indexer] = value instead\n",
      "\n",
      "See the caveats in the documentation: https://pandas.pydata.org/pandas-docs/stable/user_guide/indexing.html#returning-a-view-versus-a-copy\n",
      "  review_dataset['Clear_reviewtext']=review_dataset['review_text'].astype(str).apply(token_stop)\n"
     ]
    }
   ],
   "source": [
    "review_dataset['Clear_reviewtext']=review_dataset['review_text'].astype(str).apply(token_stop)\n"
   ]
  },
  {
   "cell_type": "code",
   "execution_count": 80,
   "id": "7f8ee1cd",
   "metadata": {},
   "outputs": [
    {
     "data": {
      "text/plain": [
       "0                                                [issues]\n",
       "1       [Purchased, device, worked, advertised, never,...\n",
       "2       [works, expected, sprung, higher, capacity, th...\n",
       "3       [think, worked, great, diff, bran, gb, card, w...\n",
       "4       [Bought, Retail, Packaging, arrived, legit, or...\n",
       "                              ...                        \n",
       "4910    [bought, Sandisk, GB, Class, use, HTC, Inspire...\n",
       "4911    [Used, extending, capabilities, Samsung, Galax...\n",
       "4912    [Great, card, fast, reliable, comes, optional,...\n",
       "4913    [Good, amount, space, stuff, want, fits, GoPro...\n",
       "4914    [heard, bad, things, gb, Micro, SD, card, crap...\n",
       "Name: Clear_reviewtext, Length: 4915, dtype: object"
      ]
     },
     "execution_count": 80,
     "metadata": {},
     "output_type": "execute_result"
    }
   ],
   "source": [
    "review_dataset['Clear_reviewtext']"
   ]
  },
  {
   "cell_type": "code",
   "execution_count": 81,
   "id": "1d35a523",
   "metadata": {},
   "outputs": [],
   "source": [
    "# Creating a function for Lemmatization of reviewText\n",
    "from nltk.stem import WordNetLemmatizer\n",
    "lemmatizer=WordNetLemmatizer()\n",
    "def lemma_text(text):\n",
    "    for word in text:\n",
    "        lemma=word\n",
    "        lemma_word=lemmatizer.lemmatize(text)\n",
    "        lemma_word=lemma_word+\" \"+lemma\n",
    "    return lemma_word\n",
    "       \n"
   ]
  },
  {
   "cell_type": "code",
   "execution_count": 82,
   "id": "18efe852",
   "metadata": {},
   "outputs": [
    {
     "data": {
      "text/plain": [
       "0                                            ['issues'] ]\n",
       "1       ['Purchased', 'device', 'worked', 'advertised'...\n",
       "2       ['works', 'expected', 'sprung', 'higher', 'cap...\n",
       "3       ['think', 'worked', 'great', 'diff', 'bran', '...\n",
       "4       ['Bought', 'Retail', 'Packaging', 'arrived', '...\n",
       "                              ...                        \n",
       "4910    ['bought', 'Sandisk', 'GB', 'Class', 'use', 'H...\n",
       "4911    ['Used', 'extending', 'capabilities', 'Samsung...\n",
       "4912    ['Great', 'card', 'fast', 'reliable', 'comes',...\n",
       "4913    ['Good', 'amount', 'space', 'stuff', 'want', '...\n",
       "4914    ['heard', 'bad', 'things', 'gb', 'Micro', 'SD'...\n",
       "Name: final_reviewtext, Length: 4915, dtype: object"
      ]
     },
     "execution_count": 82,
     "metadata": {},
     "output_type": "execute_result"
    }
   ],
   "source": [
    "review_dataset['final_reviewtext']=review_dataset['Clear_reviewtext'].astype(str).apply(lemma_text)\n",
    "review_dataset['final_reviewtext']"
   ]
  },
  {
   "cell_type": "code",
   "execution_count": 83,
   "id": "399b1624",
   "metadata": {},
   "outputs": [
    {
     "data": {
      "text/html": [
       "<div>\n",
       "<style scoped>\n",
       "    .dataframe tbody tr th:only-of-type {\n",
       "        vertical-align: middle;\n",
       "    }\n",
       "\n",
       "    .dataframe tbody tr th {\n",
       "        vertical-align: top;\n",
       "    }\n",
       "\n",
       "    .dataframe thead th {\n",
       "        text-align: right;\n",
       "    }\n",
       "</style>\n",
       "<table border=\"1\" class=\"dataframe\">\n",
       "  <thead>\n",
       "    <tr style=\"text-align: right;\">\n",
       "      <th></th>\n",
       "      <th>reviewText</th>\n",
       "      <th>final_reviewtext</th>\n",
       "    </tr>\n",
       "  </thead>\n",
       "  <tbody>\n",
       "    <tr>\n",
       "      <th>0</th>\n",
       "      <td>No issues.</td>\n",
       "      <td>['issues'] ]</td>\n",
       "    </tr>\n",
       "    <tr>\n",
       "      <th>1</th>\n",
       "      <td>Purchased this for my device, it worked as adv...</td>\n",
       "      <td>['Purchased', 'device', 'worked', 'advertised'...</td>\n",
       "    </tr>\n",
       "    <tr>\n",
       "      <th>2</th>\n",
       "      <td>it works as expected. I should have sprung for...</td>\n",
       "      <td>['works', 'expected', 'sprung', 'higher', 'cap...</td>\n",
       "    </tr>\n",
       "    <tr>\n",
       "      <th>3</th>\n",
       "      <td>This think has worked out great.Had a diff. br...</td>\n",
       "      <td>['think', 'worked', 'great', 'diff', 'bran', '...</td>\n",
       "    </tr>\n",
       "    <tr>\n",
       "      <th>4</th>\n",
       "      <td>Bought it with Retail Packaging, arrived legit...</td>\n",
       "      <td>['Bought', 'Retail', 'Packaging', 'arrived', '...</td>\n",
       "    </tr>\n",
       "    <tr>\n",
       "      <th>...</th>\n",
       "      <td>...</td>\n",
       "      <td>...</td>\n",
       "    </tr>\n",
       "    <tr>\n",
       "      <th>4910</th>\n",
       "      <td>I bought this Sandisk 16GB Class 10 to use wit...</td>\n",
       "      <td>['bought', 'Sandisk', 'GB', 'Class', 'use', 'H...</td>\n",
       "    </tr>\n",
       "    <tr>\n",
       "      <th>4911</th>\n",
       "      <td>Used this for extending the capabilities of my...</td>\n",
       "      <td>['Used', 'extending', 'capabilities', 'Samsung...</td>\n",
       "    </tr>\n",
       "    <tr>\n",
       "      <th>4912</th>\n",
       "      <td>Great card that is very fast and reliable. It ...</td>\n",
       "      <td>['Great', 'card', 'fast', 'reliable', 'comes',...</td>\n",
       "    </tr>\n",
       "    <tr>\n",
       "      <th>4913</th>\n",
       "      <td>Good amount of space for the stuff I want to d...</td>\n",
       "      <td>['Good', 'amount', 'space', 'stuff', 'want', '...</td>\n",
       "    </tr>\n",
       "    <tr>\n",
       "      <th>4914</th>\n",
       "      <td>I've heard bad things about this 64gb Micro SD...</td>\n",
       "      <td>['heard', 'bad', 'things', 'gb', 'Micro', 'SD'...</td>\n",
       "    </tr>\n",
       "  </tbody>\n",
       "</table>\n",
       "<p>4915 rows × 2 columns</p>\n",
       "</div>"
      ],
      "text/plain": [
       "                                             reviewText  \\\n",
       "0                                            No issues.   \n",
       "1     Purchased this for my device, it worked as adv...   \n",
       "2     it works as expected. I should have sprung for...   \n",
       "3     This think has worked out great.Had a diff. br...   \n",
       "4     Bought it with Retail Packaging, arrived legit...   \n",
       "...                                                 ...   \n",
       "4910  I bought this Sandisk 16GB Class 10 to use wit...   \n",
       "4911  Used this for extending the capabilities of my...   \n",
       "4912  Great card that is very fast and reliable. It ...   \n",
       "4913  Good amount of space for the stuff I want to d...   \n",
       "4914  I've heard bad things about this 64gb Micro SD...   \n",
       "\n",
       "                                       final_reviewtext  \n",
       "0                                          ['issues'] ]  \n",
       "1     ['Purchased', 'device', 'worked', 'advertised'...  \n",
       "2     ['works', 'expected', 'sprung', 'higher', 'cap...  \n",
       "3     ['think', 'worked', 'great', 'diff', 'bran', '...  \n",
       "4     ['Bought', 'Retail', 'Packaging', 'arrived', '...  \n",
       "...                                                 ...  \n",
       "4910  ['bought', 'Sandisk', 'GB', 'Class', 'use', 'H...  \n",
       "4911  ['Used', 'extending', 'capabilities', 'Samsung...  \n",
       "4912  ['Great', 'card', 'fast', 'reliable', 'comes',...  \n",
       "4913  ['Good', 'amount', 'space', 'stuff', 'want', '...  \n",
       "4914  ['heard', 'bad', 'things', 'gb', 'Micro', 'SD'...  \n",
       "\n",
       "[4915 rows x 2 columns]"
      ]
     },
     "execution_count": 83,
     "metadata": {},
     "output_type": "execute_result"
    }
   ],
   "source": [
    "review_dataset[['reviewText','final_reviewtext']]"
   ]
  },
  {
   "cell_type": "markdown",
   "id": "f2c80bbf",
   "metadata": {},
   "source": [
    "# SentimentAnalysis Using TextBlob"
   ]
  },
  {
   "cell_type": "code",
   "execution_count": 84,
   "id": "094b14f2",
   "metadata": {},
   "outputs": [
    {
     "name": "stdout",
     "output_type": "stream",
     "text": [
      "Defaulting to user installation because normal site-packages is not writeable\n",
      "Requirement already satisfied: textblob in c:\\users\\sowmyaeppalpalli\\appdata\\roaming\\python\\python39\\site-packages (0.17.1)\n",
      "Requirement already satisfied: nltk>=3.1 in c:\\programdata\\anaconda3\\lib\\site-packages (from textblob) (3.7)\n",
      "Requirement already satisfied: click in c:\\programdata\\anaconda3\\lib\\site-packages (from nltk>=3.1->textblob) (8.0.4)\n",
      "Requirement already satisfied: joblib in c:\\programdata\\anaconda3\\lib\\site-packages (from nltk>=3.1->textblob) (1.1.0)\n",
      "Requirement already satisfied: regex>=2021.8.3 in c:\\programdata\\anaconda3\\lib\\site-packages (from nltk>=3.1->textblob) (2022.3.15)\n",
      "Requirement already satisfied: tqdm in c:\\programdata\\anaconda3\\lib\\site-packages (from nltk>=3.1->textblob) (4.64.0)\n",
      "Requirement already satisfied: colorama in c:\\programdata\\anaconda3\\lib\\site-packages (from click->nltk>=3.1->textblob) (0.4.4)\n"
     ]
    }
   ],
   "source": [
    "! pip install textblob\n"
   ]
  },
  {
   "cell_type": "code",
   "execution_count": 85,
   "id": "3958c31c",
   "metadata": {},
   "outputs": [],
   "source": [
    "#Importing the TextBlob and Creating a function to return Polarity of the reviewText\n",
    "from textblob import TextBlob\n",
    "\n",
    "def sentiment_textblob(review):\n",
    "    return TextBlob(review).sentiment.polarity"
   ]
  },
  {
   "cell_type": "code",
   "execution_count": 86,
   "id": "03a5564a",
   "metadata": {},
   "outputs": [],
   "source": [
    "# Creating a function to get the score from the Polarity column and return whether a sentence \n",
    "# is postive ,negative or neutral \n",
    "def Analysis(score):\n",
    "    score=np.round(score,2)\n",
    "    if score < 0.5:\n",
    "        return 'Negative'\n",
    "    elif score == 0.5:\n",
    "        return 'Neutral'\n",
    "    else:\n",
    "        return 'Positive'\n"
   ]
  },
  {
   "cell_type": "code",
   "execution_count": 87,
   "id": "425aa42d",
   "metadata": {},
   "outputs": [],
   "source": [
    "Amazon_Dataset=pd.DataFrame(review_dataset[['reviewText','final_reviewtext']])\n",
    "Amazon_Dataset['Polarity']=Amazon_Dataset['final_reviewtext'].astype(str).apply(sentiment_textblob)\n"
   ]
  },
  {
   "cell_type": "code",
   "execution_count": 88,
   "id": "7c44c789",
   "metadata": {},
   "outputs": [],
   "source": [
    "Amazon_Dataset['Analysis']=Amazon_Dataset['Polarity'].astype(float).apply(Analysis)"
   ]
  },
  {
   "cell_type": "code",
   "execution_count": 91,
   "id": "f75a451e",
   "metadata": {},
   "outputs": [
    {
     "data": {
      "text/html": [
       "<div>\n",
       "<style scoped>\n",
       "    .dataframe tbody tr th:only-of-type {\n",
       "        vertical-align: middle;\n",
       "    }\n",
       "\n",
       "    .dataframe tbody tr th {\n",
       "        vertical-align: top;\n",
       "    }\n",
       "\n",
       "    .dataframe thead th {\n",
       "        text-align: right;\n",
       "    }\n",
       "</style>\n",
       "<table border=\"1\" class=\"dataframe\">\n",
       "  <thead>\n",
       "    <tr style=\"text-align: right;\">\n",
       "      <th></th>\n",
       "      <th>reviewText</th>\n",
       "      <th>final_reviewtext</th>\n",
       "      <th>Polarity</th>\n",
       "      <th>Analysis</th>\n",
       "    </tr>\n",
       "  </thead>\n",
       "  <tbody>\n",
       "    <tr>\n",
       "      <th>0</th>\n",
       "      <td>No issues.</td>\n",
       "      <td>['issues'] ]</td>\n",
       "      <td>0.000000</td>\n",
       "      <td>Negative</td>\n",
       "    </tr>\n",
       "    <tr>\n",
       "      <th>1</th>\n",
       "      <td>Purchased this for my device, it worked as adv...</td>\n",
       "      <td>['Purchased', 'device', 'worked', 'advertised'...</td>\n",
       "      <td>-0.100000</td>\n",
       "      <td>Negative</td>\n",
       "    </tr>\n",
       "    <tr>\n",
       "      <th>2</th>\n",
       "      <td>it works as expected. I should have sprung for...</td>\n",
       "      <td>['works', 'expected', 'sprung', 'higher', 'cap...</td>\n",
       "      <td>0.129167</td>\n",
       "      <td>Negative</td>\n",
       "    </tr>\n",
       "    <tr>\n",
       "      <th>3</th>\n",
       "      <td>This think has worked out great.Had a diff. br...</td>\n",
       "      <td>['think', 'worked', 'great', 'diff', 'bran', '...</td>\n",
       "      <td>0.350000</td>\n",
       "      <td>Negative</td>\n",
       "    </tr>\n",
       "    <tr>\n",
       "      <th>4</th>\n",
       "      <td>Bought it with Retail Packaging, arrived legit...</td>\n",
       "      <td>['Bought', 'Retail', 'Packaging', 'arrived', '...</td>\n",
       "      <td>0.386667</td>\n",
       "      <td>Negative</td>\n",
       "    </tr>\n",
       "    <tr>\n",
       "      <th>...</th>\n",
       "      <td>...</td>\n",
       "      <td>...</td>\n",
       "      <td>...</td>\n",
       "      <td>...</td>\n",
       "    </tr>\n",
       "    <tr>\n",
       "      <th>4910</th>\n",
       "      <td>I bought this Sandisk 16GB Class 10 to use wit...</td>\n",
       "      <td>['bought', 'Sandisk', 'GB', 'Class', 'use', 'H...</td>\n",
       "      <td>0.030000</td>\n",
       "      <td>Negative</td>\n",
       "    </tr>\n",
       "    <tr>\n",
       "      <th>4911</th>\n",
       "      <td>Used this for extending the capabilities of my...</td>\n",
       "      <td>['Used', 'extending', 'capabilities', 'Samsung...</td>\n",
       "      <td>0.800000</td>\n",
       "      <td>Positive</td>\n",
       "    </tr>\n",
       "    <tr>\n",
       "      <th>4912</th>\n",
       "      <td>Great card that is very fast and reliable. It ...</td>\n",
       "      <td>['Great', 'card', 'fast', 'reliable', 'comes',...</td>\n",
       "      <td>0.350000</td>\n",
       "      <td>Negative</td>\n",
       "    </tr>\n",
       "    <tr>\n",
       "      <th>4913</th>\n",
       "      <td>Good amount of space for the stuff I want to d...</td>\n",
       "      <td>['Good', 'amount', 'space', 'stuff', 'want', '...</td>\n",
       "      <td>0.700000</td>\n",
       "      <td>Positive</td>\n",
       "    </tr>\n",
       "    <tr>\n",
       "      <th>4914</th>\n",
       "      <td>I've heard bad things about this 64gb Micro SD...</td>\n",
       "      <td>['heard', 'bad', 'things', 'gb', 'Micro', 'SD'...</td>\n",
       "      <td>0.062500</td>\n",
       "      <td>Negative</td>\n",
       "    </tr>\n",
       "  </tbody>\n",
       "</table>\n",
       "<p>4915 rows × 4 columns</p>\n",
       "</div>"
      ],
      "text/plain": [
       "                                             reviewText  \\\n",
       "0                                            No issues.   \n",
       "1     Purchased this for my device, it worked as adv...   \n",
       "2     it works as expected. I should have sprung for...   \n",
       "3     This think has worked out great.Had a diff. br...   \n",
       "4     Bought it with Retail Packaging, arrived legit...   \n",
       "...                                                 ...   \n",
       "4910  I bought this Sandisk 16GB Class 10 to use wit...   \n",
       "4911  Used this for extending the capabilities of my...   \n",
       "4912  Great card that is very fast and reliable. It ...   \n",
       "4913  Good amount of space for the stuff I want to d...   \n",
       "4914  I've heard bad things about this 64gb Micro SD...   \n",
       "\n",
       "                                       final_reviewtext  Polarity  Analysis  \n",
       "0                                          ['issues'] ]  0.000000  Negative  \n",
       "1     ['Purchased', 'device', 'worked', 'advertised'... -0.100000  Negative  \n",
       "2     ['works', 'expected', 'sprung', 'higher', 'cap...  0.129167  Negative  \n",
       "3     ['think', 'worked', 'great', 'diff', 'bran', '...  0.350000  Negative  \n",
       "4     ['Bought', 'Retail', 'Packaging', 'arrived', '...  0.386667  Negative  \n",
       "...                                                 ...       ...       ...  \n",
       "4910  ['bought', 'Sandisk', 'GB', 'Class', 'use', 'H...  0.030000  Negative  \n",
       "4911  ['Used', 'extending', 'capabilities', 'Samsung...  0.800000  Positive  \n",
       "4912  ['Great', 'card', 'fast', 'reliable', 'comes',...  0.350000  Negative  \n",
       "4913  ['Good', 'amount', 'space', 'stuff', 'want', '...  0.700000  Positive  \n",
       "4914  ['heard', 'bad', 'things', 'gb', 'Micro', 'SD'...  0.062500  Negative  \n",
       "\n",
       "[4915 rows x 4 columns]"
      ]
     },
     "execution_count": 91,
     "metadata": {},
     "output_type": "execute_result"
    }
   ],
   "source": [
    "# Final Amazon Dataset with reviewText,final_reviewtext ,Polarity and Analysis\n",
    "Amazon_Dataset"
   ]
  },
  {
   "cell_type": "code",
   "execution_count": 90,
   "id": "38668390",
   "metadata": {},
   "outputs": [
    {
     "data": {
      "text/plain": [
       "Negative    3879\n",
       "Positive     887\n",
       "Neutral      149\n",
       "Name: Analysis, dtype: int64"
      ]
     },
     "execution_count": 90,
     "metadata": {},
     "output_type": "execute_result"
    }
   ],
   "source": [
    "# Count of no. of Postives Negatives and Neutrals\n",
    "Amazon_Dataset['Analysis'].value_counts()"
   ]
  },
  {
   "cell_type": "code",
   "execution_count": null,
   "id": "098a5d71",
   "metadata": {},
   "outputs": [],
   "source": []
  },
  {
   "cell_type": "code",
   "execution_count": null,
   "id": "d86ac0f9",
   "metadata": {},
   "outputs": [],
   "source": []
  },
  {
   "cell_type": "code",
   "execution_count": null,
   "id": "fa778efe",
   "metadata": {},
   "outputs": [],
   "source": []
  },
  {
   "cell_type": "code",
   "execution_count": null,
   "id": "e733a844",
   "metadata": {},
   "outputs": [],
   "source": []
  }
 ],
 "metadata": {
  "kernelspec": {
   "display_name": "Python 3 (ipykernel)",
   "language": "python",
   "name": "python3"
  },
  "language_info": {
   "codemirror_mode": {
    "name": "ipython",
    "version": 3
   },
   "file_extension": ".py",
   "mimetype": "text/x-python",
   "name": "python",
   "nbconvert_exporter": "python",
   "pygments_lexer": "ipython3",
   "version": "3.9.12"
  }
 },
 "nbformat": 4,
 "nbformat_minor": 5
}
